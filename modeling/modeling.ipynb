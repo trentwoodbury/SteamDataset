{
 "cells": [
  {
   "cell_type": "markdown",
   "metadata": {},
   "source": [
    "(This notebook took ~1.5 hours to put together)"
   ]
  },
  {
   "cell_type": "markdown",
   "metadata": {},
   "source": [
    "# Imports"
   ]
  },
  {
   "cell_type": "code",
   "execution_count": 1,
   "metadata": {},
   "outputs": [
    {
     "name": "stderr",
     "output_type": "stream",
     "text": [
      "/Users/TrentWoodbury/Code/venv/steam_dataset/lib/python3.7/site-packages/sklearn/ensemble/weight_boosting.py:29: DeprecationWarning: numpy.core.umath_tests is an internal NumPy module and should not be imported. It will be removed in a future NumPy release.\n",
      "  from numpy.core.umath_tests import inner1d\n"
     ]
    }
   ],
   "source": [
    "import datetime\n",
    "import numpy as np\n",
    "import pandas as pd\n",
    "from scipy.stats import mode\n",
    "\n",
    "from sklearn import metrics\n",
    "from sklearn.model_selection import cross_validate\n",
    "from sklearn.ensemble import RandomForestRegressor, GradientBoostingRegressor\n",
    "from sklearn.linear_model import ElasticNet\n",
    "\n",
    "import matplotlib.pyplot as plt\n",
    "import matplotlib as mpl"
   ]
  },
  {
   "cell_type": "markdown",
   "metadata": {},
   "source": [
    "# Pull in the Data and Perform Train/Validation Split"
   ]
  },
  {
   "cell_type": "code",
   "execution_count": 2,
   "metadata": {},
   "outputs": [],
   "source": [
    "X_train = pd.read_csv('../data/X_train.csv')\n",
    "X_test = pd.read_csv('../data/X_test.csv')\n",
    "y_train = pd.read_csv('../data/y_train.csv')\n",
    "y_test = pd.read_csv('../data/y_test.csv')"
   ]
  },
  {
   "cell_type": "code",
   "execution_count": 3,
   "metadata": {},
   "outputs": [
    {
     "data": {
      "text/html": [
       "<div>\n",
       "<style scoped>\n",
       "    .dataframe tbody tr th:only-of-type {\n",
       "        vertical-align: middle;\n",
       "    }\n",
       "\n",
       "    .dataframe tbody tr th {\n",
       "        vertical-align: top;\n",
       "    }\n",
       "\n",
       "    .dataframe thead th {\n",
       "        text-align: right;\n",
       "    }\n",
       "</style>\n",
       "<table border=\"1\" class=\"dataframe\">\n",
       "  <thead>\n",
       "    <tr style=\"text-align: right;\">\n",
       "      <th></th>\n",
       "      <th>Rating</th>\n",
       "      <th>Required_Age</th>\n",
       "      <th>Is_Multiplayer</th>\n",
       "      <th>Accounting</th>\n",
       "      <th>Action</th>\n",
       "      <th>Adventure</th>\n",
       "      <th>Animation &amp; Modeling</th>\n",
       "      <th>Audio Production</th>\n",
       "      <th>Casual</th>\n",
       "      <th>Design &amp; Illustration</th>\n",
       "      <th>...</th>\n",
       "      <th>Racing</th>\n",
       "      <th>Simulation</th>\n",
       "      <th>Software Training</th>\n",
       "      <th>Sports</th>\n",
       "      <th>Strategy</th>\n",
       "      <th>Utilities</th>\n",
       "      <th>Video Production</th>\n",
       "      <th>Web Publishing</th>\n",
       "      <th>MeanPlaytime</th>\n",
       "      <th>MedianPlaytime</th>\n",
       "    </tr>\n",
       "  </thead>\n",
       "  <tbody>\n",
       "    <tr>\n",
       "      <td>0</td>\n",
       "      <td>NaN</td>\n",
       "      <td>NaN</td>\n",
       "      <td>NaN</td>\n",
       "      <td>0</td>\n",
       "      <td>0</td>\n",
       "      <td>0</td>\n",
       "      <td>0</td>\n",
       "      <td>0</td>\n",
       "      <td>0</td>\n",
       "      <td>0</td>\n",
       "      <td>...</td>\n",
       "      <td>0</td>\n",
       "      <td>0</td>\n",
       "      <td>0</td>\n",
       "      <td>0</td>\n",
       "      <td>0</td>\n",
       "      <td>0</td>\n",
       "      <td>0</td>\n",
       "      <td>0</td>\n",
       "      <td>1356.944444</td>\n",
       "      <td>192.5</td>\n",
       "    </tr>\n",
       "    <tr>\n",
       "      <td>1</td>\n",
       "      <td>87.0</td>\n",
       "      <td>0.0</td>\n",
       "      <td>0.0</td>\n",
       "      <td>0</td>\n",
       "      <td>1</td>\n",
       "      <td>0</td>\n",
       "      <td>0</td>\n",
       "      <td>0</td>\n",
       "      <td>0</td>\n",
       "      <td>0</td>\n",
       "      <td>...</td>\n",
       "      <td>0</td>\n",
       "      <td>0</td>\n",
       "      <td>0</td>\n",
       "      <td>0</td>\n",
       "      <td>0</td>\n",
       "      <td>0</td>\n",
       "      <td>0</td>\n",
       "      <td>0</td>\n",
       "      <td>62.500000</td>\n",
       "      <td>62.5</td>\n",
       "    </tr>\n",
       "    <tr>\n",
       "      <td>2</td>\n",
       "      <td>88.0</td>\n",
       "      <td>0.0</td>\n",
       "      <td>1.0</td>\n",
       "      <td>0</td>\n",
       "      <td>1</td>\n",
       "      <td>0</td>\n",
       "      <td>0</td>\n",
       "      <td>0</td>\n",
       "      <td>0</td>\n",
       "      <td>0</td>\n",
       "      <td>...</td>\n",
       "      <td>0</td>\n",
       "      <td>0</td>\n",
       "      <td>0</td>\n",
       "      <td>0</td>\n",
       "      <td>0</td>\n",
       "      <td>0</td>\n",
       "      <td>0</td>\n",
       "      <td>0</td>\n",
       "      <td>NaN</td>\n",
       "      <td>NaN</td>\n",
       "    </tr>\n",
       "    <tr>\n",
       "      <td>3</td>\n",
       "      <td>NaN</td>\n",
       "      <td>NaN</td>\n",
       "      <td>NaN</td>\n",
       "      <td>0</td>\n",
       "      <td>0</td>\n",
       "      <td>0</td>\n",
       "      <td>0</td>\n",
       "      <td>0</td>\n",
       "      <td>0</td>\n",
       "      <td>0</td>\n",
       "      <td>...</td>\n",
       "      <td>0</td>\n",
       "      <td>0</td>\n",
       "      <td>0</td>\n",
       "      <td>0</td>\n",
       "      <td>0</td>\n",
       "      <td>0</td>\n",
       "      <td>0</td>\n",
       "      <td>0</td>\n",
       "      <td>882.250000</td>\n",
       "      <td>223.5</td>\n",
       "    </tr>\n",
       "    <tr>\n",
       "      <td>4</td>\n",
       "      <td>96.0</td>\n",
       "      <td>0.0</td>\n",
       "      <td>1.0</td>\n",
       "      <td>0</td>\n",
       "      <td>1</td>\n",
       "      <td>0</td>\n",
       "      <td>0</td>\n",
       "      <td>0</td>\n",
       "      <td>0</td>\n",
       "      <td>0</td>\n",
       "      <td>...</td>\n",
       "      <td>0</td>\n",
       "      <td>0</td>\n",
       "      <td>0</td>\n",
       "      <td>0</td>\n",
       "      <td>0</td>\n",
       "      <td>0</td>\n",
       "      <td>0</td>\n",
       "      <td>0</td>\n",
       "      <td>15.500000</td>\n",
       "      <td>15.5</td>\n",
       "    </tr>\n",
       "  </tbody>\n",
       "</table>\n",
       "<p>5 rows × 27 columns</p>\n",
       "</div>"
      ],
      "text/plain": [
       "   Rating  Required_Age  Is_Multiplayer  Accounting  Action  Adventure  \\\n",
       "0     NaN           NaN             NaN           0       0          0   \n",
       "1    87.0           0.0             0.0           0       1          0   \n",
       "2    88.0           0.0             1.0           0       1          0   \n",
       "3     NaN           NaN             NaN           0       0          0   \n",
       "4    96.0           0.0             1.0           0       1          0   \n",
       "\n",
       "   Animation & Modeling  Audio Production  Casual  Design & Illustration  ...  \\\n",
       "0                     0                 0       0                      0  ...   \n",
       "1                     0                 0       0                      0  ...   \n",
       "2                     0                 0       0                      0  ...   \n",
       "3                     0                 0       0                      0  ...   \n",
       "4                     0                 0       0                      0  ...   \n",
       "\n",
       "   Racing  Simulation  Software Training  Sports  Strategy  Utilities  \\\n",
       "0       0           0                  0       0         0          0   \n",
       "1       0           0                  0       0         0          0   \n",
       "2       0           0                  0       0         0          0   \n",
       "3       0           0                  0       0         0          0   \n",
       "4       0           0                  0       0         0          0   \n",
       "\n",
       "   Video Production  Web Publishing  MeanPlaytime  MedianPlaytime  \n",
       "0                 0               0   1356.944444           192.5  \n",
       "1                 0               0     62.500000            62.5  \n",
       "2                 0               0           NaN             NaN  \n",
       "3                 0               0    882.250000           223.5  \n",
       "4                 0               0     15.500000            15.5  \n",
       "\n",
       "[5 rows x 27 columns]"
      ]
     },
     "execution_count": 3,
     "metadata": {},
     "output_type": "execute_result"
    }
   ],
   "source": [
    "X_train.head()"
   ]
  },
  {
   "cell_type": "code",
   "execution_count": 4,
   "metadata": {},
   "outputs": [
    {
     "data": {
      "text/html": [
       "<div>\n",
       "<style scoped>\n",
       "    .dataframe tbody tr th:only-of-type {\n",
       "        vertical-align: middle;\n",
       "    }\n",
       "\n",
       "    .dataframe tbody tr th {\n",
       "        vertical-align: top;\n",
       "    }\n",
       "\n",
       "    .dataframe thead th {\n",
       "        text-align: right;\n",
       "    }\n",
       "</style>\n",
       "<table border=\"1\" class=\"dataframe\">\n",
       "  <thead>\n",
       "    <tr style=\"text-align: right;\">\n",
       "      <th></th>\n",
       "      <th>labels</th>\n",
       "    </tr>\n",
       "  </thead>\n",
       "  <tbody>\n",
       "    <tr>\n",
       "      <td>0</td>\n",
       "      <td>18.0</td>\n",
       "    </tr>\n",
       "    <tr>\n",
       "      <td>1</td>\n",
       "      <td>421.0</td>\n",
       "    </tr>\n",
       "    <tr>\n",
       "      <td>2</td>\n",
       "      <td>34.0</td>\n",
       "    </tr>\n",
       "    <tr>\n",
       "      <td>3</td>\n",
       "      <td>36.0</td>\n",
       "    </tr>\n",
       "    <tr>\n",
       "      <td>4</td>\n",
       "      <td>1.0</td>\n",
       "    </tr>\n",
       "  </tbody>\n",
       "</table>\n",
       "</div>"
      ],
      "text/plain": [
       "   labels\n",
       "0    18.0\n",
       "1   421.0\n",
       "2    34.0\n",
       "3    36.0\n",
       "4     1.0"
      ]
     },
     "execution_count": 4,
     "metadata": {},
     "output_type": "execute_result"
    }
   ],
   "source": [
    "y_train.head()"
   ]
  },
  {
   "cell_type": "markdown",
   "metadata": {},
   "source": [
    "### Deal with NaNs"
   ]
  },
  {
   "cell_type": "code",
   "execution_count": 5,
   "metadata": {},
   "outputs": [],
   "source": [
    "X_train_imputed = X_train.copy()\n",
    "X_train_imputed['Rating'] = (\n",
    "    X_train_imputed['Rating']\n",
    "    .fillna(\n",
    "        np.average(X_train_imputed.loc[~np.isnan(X_train_imputed.Rating)])\n",
    "    )\n",
    ")\n",
    "for col in X_train_imputed.columns[1:25]:\n",
    "    X_train_imputed[col] = (\n",
    "        X_train_imputed[col]\n",
    "        .fillna(\n",
    "            mode(X_train_imputed.loc[~np.isnan(X_train_imputed[col]), col])[0][0]\n",
    "        )\n",
    "    )\n",
    "    \n",
    "X_train_imputed['MeanPlaytime'] = (\n",
    "    X_train_imputed['MeanPlaytime']\n",
    "    .fillna(\n",
    "        np.average(X_train_imputed.loc[~np.isnan(X_train_imputed.MeanPlaytime), 'MeanPlaytime'])\n",
    "    )\n",
    ")\n",
    "X_train_imputed['MedianPlaytime'] = (\n",
    "    X_train_imputed['MedianPlaytime']\n",
    "    .fillna(\n",
    "        np.average(X_train_imputed.loc[~np.isnan(X_train_imputed.MedianPlaytime), 'MedianPlaytime'])\n",
    "    )\n",
    ")"
   ]
  },
  {
   "cell_type": "code",
   "execution_count": 6,
   "metadata": {},
   "outputs": [],
   "source": [
    "X_test_imputed = X_test.copy()\n",
    "X_test_imputed['Rating'] = (\n",
    "    X_test_imputed['Rating']\n",
    "    .fillna(\n",
    "        np.average(X_test_imputed.loc[~np.isnan(X_test_imputed.Rating)])\n",
    "    )\n",
    ")\n",
    "for col in X_test_imputed.columns[1:25]:\n",
    "    X_test_imputed[col] = (\n",
    "        X_test_imputed[col]\n",
    "        .fillna(\n",
    "            mode(X_test_imputed.loc[~np.isnan(X_test_imputed[col]), col])[0][0]\n",
    "        )\n",
    "    )\n",
    "    \n",
    "X_test_imputed['MeanPlaytime'] = (\n",
    "    X_test_imputed['MeanPlaytime']\n",
    "    .fillna(\n",
    "        np.average(X_test_imputed.loc[~np.isnan(X_test_imputed.MeanPlaytime), 'MeanPlaytime'])\n",
    "    )\n",
    ")\n",
    "X_test_imputed['MedianPlaytime'] = (\n",
    "    X_test_imputed['MedianPlaytime']\n",
    "    .fillna(\n",
    "        np.average(X_test_imputed.loc[~np.isnan(X_test_imputed.MedianPlaytime), 'MedianPlaytime'])\n",
    "    )\n",
    ")"
   ]
  },
  {
   "cell_type": "markdown",
   "metadata": {},
   "source": [
    "# Modeling"
   ]
  },
  {
   "cell_type": "markdown",
   "metadata": {},
   "source": [
    "## Elastic Net Regression"
   ]
  },
  {
   "cell_type": "code",
   "execution_count": 7,
   "metadata": {},
   "outputs": [
    {
     "name": "stdout",
     "output_type": "stream",
     "text": [
      "(Validation) Negative Mean Absolute Error: [-3293.50777121 -3432.42283431 -3773.74970426]\n"
     ]
    }
   ],
   "source": [
    "en = ElasticNet()\n",
    "\n",
    "cv_results = cross_validate(\n",
    "    en, \n",
    "    X_train_imputed.fillna(0), \n",
    "    y_train.values.T[0], \n",
    "    cv=3, \n",
    "    scoring='neg_mean_absolute_error'\n",
    ")\n",
    "print(\"(Validation) Negative Mean Absolute Error:\", cv_results['test_score'])"
   ]
  },
  {
   "cell_type": "code",
   "execution_count": 8,
   "metadata": {},
   "outputs": [
    {
     "name": "stdout",
     "output_type": "stream",
     "text": [
      "(Test) Negative Mean Absolute Error: -5897.859789998183\n"
     ]
    }
   ],
   "source": [
    "en.fit(    \n",
    "    X_train_imputed.fillna(0), \n",
    "    y_train.values.T[0]\n",
    ")\n",
    "test_predictions = en.predict(X_test_imputed.fillna(0))\n",
    "mae = metrics.mean_absolute_error(y_test.values.T[0], test_predictions)\n",
    "print(\"(Test) Negative Mean Absolute Error:\", -1 * mae)"
   ]
  },
  {
   "cell_type": "markdown",
   "metadata": {},
   "source": [
    "## Random Forest Regressor"
   ]
  },
  {
   "cell_type": "code",
   "execution_count": 9,
   "metadata": {},
   "outputs": [
    {
     "name": "stdout",
     "output_type": "stream",
     "text": [
      "(Validation) Negative Mean Absolute Error: [-3588.04373362 -3155.55087574 -4019.04351146]\n"
     ]
    }
   ],
   "source": [
    "rfg = RandomForestRegressor()\n",
    "\n",
    "cv_results = cross_validate(\n",
    "    rfg, \n",
    "    X_train_imputed.fillna(0), \n",
    "    y_train.values.T[0], \n",
    "    cv=3, \n",
    "    scoring='neg_mean_absolute_error'\n",
    ")\n",
    "print(\"(Validation) Negative Mean Absolute Error:\", cv_results['test_score'])"
   ]
  },
  {
   "cell_type": "code",
   "execution_count": 10,
   "metadata": {},
   "outputs": [
    {
     "name": "stdout",
     "output_type": "stream",
     "text": [
      "(Test) Negative Mean Absolute Error: -16644.07420405255\n"
     ]
    }
   ],
   "source": [
    "rfg.fit(    \n",
    "    X_train_imputed.fillna(0), \n",
    "    y_train.values.T[0]\n",
    ")\n",
    "test_predictions = rfg.predict(X_test_imputed.fillna(0))\n",
    "mae = metrics.mean_absolute_error(y_test.values.T[0], test_predictions)\n",
    "print(\"(Test) Negative Mean Absolute Error:\", -1 * mae)"
   ]
  },
  {
   "cell_type": "markdown",
   "metadata": {},
   "source": [
    "## Gradient Boosted Regressor"
   ]
  },
  {
   "cell_type": "code",
   "execution_count": 11,
   "metadata": {},
   "outputs": [
    {
     "name": "stdout",
     "output_type": "stream",
     "text": [
      "Negative Mean Absolute Error: [-3380.3891141  -3083.27886352 -3781.52395872]\n"
     ]
    }
   ],
   "source": [
    "gbr = GradientBoostingRegressor()\n",
    "\n",
    "cv_results = cross_validate(\n",
    "    gbr, \n",
    "    X_train_imputed.fillna(0), \n",
    "    y_train.values.T[0], \n",
    "    cv=3, \n",
    "    scoring='neg_mean_absolute_error'\n",
    ")\n",
    "print(\"Negative Mean Absolute Error:\", cv_results['test_score'])"
   ]
  },
  {
   "cell_type": "code",
   "execution_count": 12,
   "metadata": {},
   "outputs": [
    {
     "name": "stdout",
     "output_type": "stream",
     "text": [
      "(Test) Negative Mean Absolute Error: -6720.782806195966\n"
     ]
    }
   ],
   "source": [
    "gbr.fit(    \n",
    "    X_train_imputed.fillna(0), \n",
    "    y_train.values.T[0]\n",
    ")\n",
    "test_predictions = gbr.predict(X_test_imputed.fillna(0))\n",
    "mae = metrics.mean_absolute_error(y_test.values.T[0], test_predictions)\n",
    "print(\"(Test) Negative Mean Absolute Error:\", -1 * mae)"
   ]
  },
  {
   "cell_type": "markdown",
   "metadata": {},
   "source": [
    "# Conclusions"
   ]
  },
  {
   "cell_type": "markdown",
   "metadata": {},
   "source": [
    "The Elastic Net model performs best for the holdout set, so would be the model we should go with."
   ]
  },
  {
   "cell_type": "markdown",
   "metadata": {},
   "source": [
    "# Next Steps"
   ]
  },
  {
   "cell_type": "markdown",
   "metadata": {},
   "source": [
    "So what are the next steps we could take for this modeling process?<br>\n",
    "(1) Compare our error distribution to the overall distribution of play times to determine if our model has any real predictive power.\n",
    "(2) Experiment with hyperparameter tuning.<br>\n",
    "(3) Add in new features.<br>\n",
    "(4) Run some experiments to see if the difference in validation and test performance is from seasonalities/shifts in the data or if it is from overfitting.<br>\n",
    "(5) Train an XGBoost model.<br>\n",
    "(6) Train a shallow Neural Net."
   ]
  },
  {
   "cell_type": "code",
   "execution_count": null,
   "metadata": {},
   "outputs": [],
   "source": []
  }
 ],
 "metadata": {
  "kernelspec": {
   "display_name": "steam_dataset",
   "language": "python",
   "name": "steam_dataset"
  },
  "language_info": {
   "codemirror_mode": {
    "name": "ipython",
    "version": 3
   },
   "file_extension": ".py",
   "mimetype": "text/x-python",
   "name": "python",
   "nbconvert_exporter": "python",
   "pygments_lexer": "ipython3",
   "version": "3.7.4"
  }
 },
 "nbformat": 4,
 "nbformat_minor": 2
}
